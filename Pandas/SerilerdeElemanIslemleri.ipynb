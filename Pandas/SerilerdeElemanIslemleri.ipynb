{
 "cells": [
  {
   "cell_type": "markdown",
   "id": "47900d24-a314-4cf3-8926-9f20568c4a32",
   "metadata": {},
   "source": [
    "# Serilerde Eleman İslemleri"
   ]
  },
  {
   "cell_type": "code",
   "execution_count": 4,
   "id": "c6c9dfe1-e4a4-4d05-893c-6cfd6632ab87",
   "metadata": {},
   "outputs": [],
   "source": [
    "import numpy as np\n",
    "import pandas as pd"
   ]
  },
  {
   "cell_type": "code",
   "execution_count": 5,
   "id": "68648037-804d-4d62-aa06-5f802cf861be",
   "metadata": {},
   "outputs": [
    {
     "data": {
      "text/plain": [
       "0     1\n",
       "1     2\n",
       "2    66\n",
       "3    44\n",
       "4    57\n",
       "dtype: int32"
      ]
     },
     "execution_count": 5,
     "metadata": {},
     "output_type": "execute_result"
    }
   ],
   "source": [
    "a = np.array([1,2,66,44,57])\n",
    "seri = pd.Series(a)\n",
    "seri"
   ]
  },
  {
   "cell_type": "code",
   "execution_count": 6,
   "id": "9ffb9233-3680-46a0-b3e2-52be71f54c75",
   "metadata": {},
   "outputs": [
    {
     "data": {
      "text/plain": [
       "1"
      ]
     },
     "execution_count": 6,
     "metadata": {},
     "output_type": "execute_result"
    }
   ],
   "source": [
    "seri[0]"
   ]
  },
  {
   "cell_type": "code",
   "execution_count": 8,
   "id": "22edf96c-a4f5-4bd2-bcd9-f0c4e5c1c3ae",
   "metadata": {},
   "outputs": [
    {
     "data": {
      "text/plain": [
       "0     1\n",
       "1     2\n",
       "2    66\n",
       "dtype: int32"
      ]
     },
     "execution_count": 8,
     "metadata": {},
     "output_type": "execute_result"
    }
   ],
   "source": [
    "seri[0:3]"
   ]
  },
  {
   "cell_type": "code",
   "execution_count": 9,
   "id": "d53c4ac6-964b-43f3-8e3f-b15b280a62a4",
   "metadata": {},
   "outputs": [
    {
     "data": {
      "text/plain": [
       "2    66\n",
       "3    44\n",
       "4    57\n",
       "dtype: int32"
      ]
     },
     "execution_count": 9,
     "metadata": {},
     "output_type": "execute_result"
    }
   ],
   "source": [
    "seri[2:]"
   ]
  },
  {
   "cell_type": "code",
   "execution_count": 10,
   "id": "e3b3776e-855a-4313-a04e-ae76c59ca320",
   "metadata": {},
   "outputs": [],
   "source": [
    "seri2 = pd.Series([44,5,55,85,23,65], index = [\"a\",\"b\",\"c\",\"d\",\"e\",\"f\"])"
   ]
  },
  {
   "cell_type": "code",
   "execution_count": 12,
   "id": "fe1d081d-2261-46bd-932b-ed641fc47677",
   "metadata": {},
   "outputs": [
    {
     "data": {
      "text/plain": [
       "44"
      ]
     },
     "execution_count": 12,
     "metadata": {},
     "output_type": "execute_result"
    }
   ],
   "source": [
    "seri2[\"a\"]"
   ]
  },
  {
   "cell_type": "code",
   "execution_count": 13,
   "id": "11d3ecf8-3241-4b74-af2f-9f5bfc7ce714",
   "metadata": {},
   "outputs": [
    {
     "data": {
      "text/plain": [
       "Index(['a', 'b', 'c', 'd', 'e', 'f'], dtype='object')"
      ]
     },
     "execution_count": 13,
     "metadata": {},
     "output_type": "execute_result"
    }
   ],
   "source": [
    "seri2.index"
   ]
  },
  {
   "cell_type": "code",
   "execution_count": 17,
   "id": "7cf0a764-92c1-448d-abdf-f7e681fb8787",
   "metadata": {},
   "outputs": [
    {
     "data": {
      "text/plain": [
       "<bound method Series.keys of a    44\n",
       "b     5\n",
       "c    55\n",
       "d    85\n",
       "e    23\n",
       "f    65\n",
       "dtype: int64>"
      ]
     },
     "execution_count": 17,
     "metadata": {},
     "output_type": "execute_result"
    }
   ],
   "source": [
    "seri2.keys"
   ]
  },
  {
   "cell_type": "code",
   "execution_count": 16,
   "id": "9b2583f8-6ef1-49b7-89bf-42641869b480",
   "metadata": {},
   "outputs": [
    {
     "data": {
      "text/plain": [
       "[('a', 44), ('b', 5), ('c', 55), ('d', 85), ('e', 23), ('f', 65)]"
      ]
     },
     "execution_count": 16,
     "metadata": {},
     "output_type": "execute_result"
    }
   ],
   "source": [
    "list(seri2.items())"
   ]
  },
  {
   "cell_type": "code",
   "execution_count": 21,
   "id": "ad02ccb7-e0ab-4db1-bd40-017f138da3aa",
   "metadata": {},
   "outputs": [
    {
     "data": {
      "text/plain": [
       "array([44,  5, 55, 85, 23, 65], dtype=int64)"
      ]
     },
     "execution_count": 21,
     "metadata": {},
     "output_type": "execute_result"
    }
   ],
   "source": [
    "seri2.values"
   ]
  },
  {
   "cell_type": "markdown",
   "id": "835c68e5-b2f3-4353-b953-2db5e2ae219f",
   "metadata": {},
   "source": [
    "## Eleman Sorgulama"
   ]
  },
  {
   "cell_type": "code",
   "execution_count": 20,
   "id": "40914692-9b19-4cfb-a51b-09ee91d27298",
   "metadata": {},
   "outputs": [
    {
     "data": {
      "text/plain": [
       "True"
      ]
     },
     "execution_count": 20,
     "metadata": {},
     "output_type": "execute_result"
    }
   ],
   "source": [
    "\"a\" in seri2 # \"a\" seri2 in icinde mi"
   ]
  },
  {
   "cell_type": "markdown",
   "id": "09286856-09fd-49f1-93a0-30bf507eb96d",
   "metadata": {},
   "source": [
    "## Fancy Eleman "
   ]
  },
  {
   "cell_type": "code",
   "execution_count": 22,
   "id": "f6ec4b3d-ced4-43cc-a702-42ac77322395",
   "metadata": {},
   "outputs": [
    {
     "data": {
      "text/plain": [
       "b     5\n",
       "c    55\n",
       "dtype: int64"
      ]
     },
     "execution_count": 22,
     "metadata": {},
     "output_type": "execute_result"
    }
   ],
   "source": [
    "seri2[[\"b\",\"c\"]]"
   ]
  },
  {
   "cell_type": "code",
   "execution_count": null,
   "id": "9e36ff18-1b6c-46fb-94ca-63fe33856ee8",
   "metadata": {},
   "outputs": [],
   "source": []
  },
  {
   "cell_type": "code",
   "execution_count": 23,
   "id": "d1d12eb6-f9da-4dfa-b049-1fd2256edb42",
   "metadata": {},
   "outputs": [
    {
     "data": {
      "text/plain": [
       "a    44\n",
       "b     5\n",
       "c    55\n",
       "d    85\n",
       "e    23\n",
       "f    65\n",
       "dtype: int64"
      ]
     },
     "execution_count": 23,
     "metadata": {},
     "output_type": "execute_result"
    }
   ],
   "source": [
    "seri2"
   ]
  },
  {
   "cell_type": "code",
   "execution_count": 25,
   "id": "74fb5af3-5ecc-43c5-8fa6-f3c60197d9f0",
   "metadata": {},
   "outputs": [],
   "source": [
    "seri2[\"d\"] = 155"
   ]
  },
  {
   "cell_type": "code",
   "execution_count": 26,
   "id": "08a06cd0-70b8-4e49-9554-a2652084faae",
   "metadata": {},
   "outputs": [
    {
     "data": {
      "text/plain": [
       "a     44\n",
       "b      5\n",
       "c     55\n",
       "d    155\n",
       "e     23\n",
       "f     65\n",
       "dtype: int64"
      ]
     },
     "execution_count": 26,
     "metadata": {},
     "output_type": "execute_result"
    }
   ],
   "source": [
    "seri2"
   ]
  },
  {
   "cell_type": "code",
   "execution_count": 27,
   "id": "80f99c01-d1f0-4a25-a878-112ef98d09db",
   "metadata": {},
   "outputs": [
    {
     "data": {
      "text/plain": [
       "a     44\n",
       "b      5\n",
       "c     55\n",
       "d    155\n",
       "e     23\n",
       "dtype: int64"
      ]
     },
     "execution_count": 27,
     "metadata": {},
     "output_type": "execute_result"
    }
   ],
   "source": [
    "seri2[\"a\":\"e\"]"
   ]
  },
  {
   "cell_type": "code",
   "execution_count": null,
   "id": "15717403-3506-4f3a-bd36-3b46d946dfc5",
   "metadata": {},
   "outputs": [],
   "source": []
  }
 ],
 "metadata": {
  "kernelspec": {
   "display_name": "Python 3 (ipykernel)",
   "language": "python",
   "name": "python3"
  },
  "language_info": {
   "codemirror_mode": {
    "name": "ipython",
    "version": 3
   },
   "file_extension": ".py",
   "mimetype": "text/x-python",
   "name": "python",
   "nbconvert_exporter": "python",
   "pygments_lexer": "ipython3",
   "version": "3.9.13"
  }
 },
 "nbformat": 4,
 "nbformat_minor": 5
}
